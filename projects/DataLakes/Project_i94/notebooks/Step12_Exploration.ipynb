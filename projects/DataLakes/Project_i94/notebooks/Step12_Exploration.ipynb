{
 "cells": [
  {
   "cell_type": "markdown",
   "metadata": {},
   "source": [
    "# Project i94\n",
    "##### (Step1_Exploration.ipynb)\n",
    "**Note:** This notebook includes the following work steps:\n",
    "* Step 1: Defining the project and gathering data\n",
    "* Step 2: Exploring & assessing datasets\n",
    "\n",
    "---\n",
    "## Project Scope & Data Sources\n",
    "- This project aims to build a data warehouse with US immigration and demographic data\n",
    "\n",
    "- The end goal is to create analytical tables for various agencies that are impacted by the influx US visitors and/or immigrants. For examples:\n",
    "    - Tour agencies in Hawaii may benefit from knowing, \"to which countries should they target their travel deals & promotions to?\"\n",
    "    - Tech companies may want to know, \"for which countries should they prepare visa sponsorships during summer internships?\" \n",
    "    - Hotel managements may benefit from understanding, \"which months of the year should they consider increasing their staff size on?  \n",
    "    - etc.\n",
    "    \n",
    "    \n",
    "- Data Sources:\n",
    "    - I94 Immigration Data from the US National Tourism and Trade Office\n",
    "    - U.S. City Demographic Data from OpenSoft\n",
    "\n"
   ]
  },
  {
   "cell_type": "markdown",
   "metadata": {},
   "source": [
    "---"
   ]
  },
  {
   "cell_type": "markdown",
   "metadata": {},
   "source": [
    "##### Importing libraries and initiating spark session"
   ]
  },
  {
   "cell_type": "code",
   "execution_count": 1,
   "metadata": {},
   "outputs": [],
   "source": [
    "import pandas as pd\n",
    "import numpy as np\n",
    "import os\n",
    "import re\n",
    "\n",
    "from pyspark.sql import SparkSession\n",
    "from pyspark.sql.functions import udf, col, when\n",
    "from pyspark.sql.types import IntegerType, FloatType\n",
    "\n",
    "from utility_functions import count_nulls"
   ]
  },
  {
   "cell_type": "code",
   "execution_count": 2,
   "metadata": {},
   "outputs": [],
   "source": [
    "# Start spark session\n",
    "spark = (SparkSession \n",
    "            .builder \n",
    "            .config(\"spark.jars.packages\",\"saurfang:spark-sas7bdat:2.0.0-s_2.11\") \n",
    "            .enableHiveSupport().getOrCreate()\n",
    "        )"
   ]
  },
  {
   "cell_type": "markdown",
   "metadata": {},
   "source": [
    "##### Loading data and initial exploration\n",
    "- Due to size limitation, the sas files are not included in this repo "
   ]
  },
  {
   "cell_type": "code",
   "execution_count": 3,
   "metadata": {},
   "outputs": [
    {
     "name": "stdout",
     "output_type": "stream",
     "text": [
      "total rows in raw data: 3096313\n",
      "root\n",
      " |-- cicid: double (nullable = true)\n",
      " |-- i94yr: double (nullable = true)\n",
      " |-- i94mon: double (nullable = true)\n",
      " |-- i94cit: double (nullable = true)\n",
      " |-- i94res: double (nullable = true)\n",
      " |-- i94port: string (nullable = true)\n",
      " |-- arrdate: double (nullable = true)\n",
      " |-- i94mode: double (nullable = true)\n",
      " |-- i94addr: string (nullable = true)\n",
      " |-- depdate: double (nullable = true)\n",
      " |-- i94bir: double (nullable = true)\n",
      " |-- i94visa: double (nullable = true)\n",
      " |-- count: double (nullable = true)\n",
      " |-- dtadfile: string (nullable = true)\n",
      " |-- visapost: string (nullable = true)\n",
      " |-- occup: string (nullable = true)\n",
      " |-- entdepa: string (nullable = true)\n",
      " |-- entdepd: string (nullable = true)\n",
      " |-- entdepu: string (nullable = true)\n",
      " |-- matflag: string (nullable = true)\n",
      " |-- biryear: double (nullable = true)\n",
      " |-- dtaddto: string (nullable = true)\n",
      " |-- gender: string (nullable = true)\n",
      " |-- insnum: string (nullable = true)\n",
      " |-- airline: string (nullable = true)\n",
      " |-- admnum: double (nullable = true)\n",
      " |-- fltno: string (nullable = true)\n",
      " |-- visatype: string (nullable = true)\n",
      "\n"
     ]
    }
   ],
   "source": [
    "# Load files\n",
    "df_immigration = (spark.read.format('com.github.saurfang.sas.spark') \n",
    "                    .load('../data/18-83510-I94-Data-2016/i94_apr16_sub.sas7bdat')\n",
    "                 )\n",
    "# write to parquet\n",
    "# df_immigration.write.parquet(\"sas_data\")\n",
    "# df_immigration=spark.read.parquet(\"sas_data\")\n",
    "\n",
    "print('total rows in raw data:',df_immigration.count())\n",
    "df_immigration.printSchema()"
   ]
  },
  {
   "cell_type": "markdown",
   "metadata": {},
   "source": [
    "### Explore and Assess Immigration Data\n",
    "- Identify data quality issues, like missing values, duplicate data, etc.\n",
    "- Document steps necessary to clean the data"
   ]
  },
  {
   "cell_type": "code",
   "execution_count": 4,
   "metadata": {},
   "outputs": [
    {
     "name": "stdout",
     "output_type": "stream",
     "text": [
      "['cicid', 'i94yr', 'i94mon', 'i94cit', 'i94res', 'i94port', 'arrdate', 'i94mode', 'i94addr', 'depdate', 'i94bir', 'i94visa', 'count', 'dtadfile', 'visapost', 'occup', 'entdepa', 'entdepd', 'entdepu', 'matflag', 'biryear', 'dtaddto', 'gender', 'insnum', 'airline', 'admnum', 'fltno', 'visatype']\n"
     ]
    }
   ],
   "source": [
    "# list of column names\n",
    "print(df_immigration.columns)"
   ]
  },
  {
   "cell_type": "code",
   "execution_count": 5,
   "metadata": {},
   "outputs": [
    {
     "data": {
      "text/html": [
       "<div>\n",
       "<style scoped>\n",
       "    .dataframe tbody tr th:only-of-type {\n",
       "        vertical-align: middle;\n",
       "    }\n",
       "\n",
       "    .dataframe tbody tr th {\n",
       "        vertical-align: top;\n",
       "    }\n",
       "\n",
       "    .dataframe thead th {\n",
       "        text-align: right;\n",
       "    }\n",
       "</style>\n",
       "<table border=\"1\" class=\"dataframe\">\n",
       "  <thead>\n",
       "    <tr style=\"text-align: right;\">\n",
       "      <th></th>\n",
       "      <th>cicid</th>\n",
       "      <th>i94yr</th>\n",
       "      <th>i94mon</th>\n",
       "      <th>i94cit</th>\n",
       "      <th>i94res</th>\n",
       "      <th>i94port</th>\n",
       "      <th>arrdate</th>\n",
       "      <th>i94mode</th>\n",
       "      <th>i94addr</th>\n",
       "      <th>depdate</th>\n",
       "      <th>...</th>\n",
       "      <th>entdepu</th>\n",
       "      <th>matflag</th>\n",
       "      <th>biryear</th>\n",
       "      <th>dtaddto</th>\n",
       "      <th>gender</th>\n",
       "      <th>insnum</th>\n",
       "      <th>airline</th>\n",
       "      <th>admnum</th>\n",
       "      <th>fltno</th>\n",
       "      <th>visatype</th>\n",
       "    </tr>\n",
       "  </thead>\n",
       "  <tbody>\n",
       "    <tr>\n",
       "      <th>0</th>\n",
       "      <td>6.0</td>\n",
       "      <td>2016.0</td>\n",
       "      <td>4.0</td>\n",
       "      <td>692.0</td>\n",
       "      <td>692.0</td>\n",
       "      <td>XXX</td>\n",
       "      <td>20573.0</td>\n",
       "      <td>NaN</td>\n",
       "      <td>None</td>\n",
       "      <td>None</td>\n",
       "      <td>...</td>\n",
       "      <td>U</td>\n",
       "      <td>None</td>\n",
       "      <td>1979.0</td>\n",
       "      <td>10282016</td>\n",
       "      <td>None</td>\n",
       "      <td>None</td>\n",
       "      <td>None</td>\n",
       "      <td>1.897628e+09</td>\n",
       "      <td>None</td>\n",
       "      <td>B2</td>\n",
       "    </tr>\n",
       "    <tr>\n",
       "      <th>1</th>\n",
       "      <td>7.0</td>\n",
       "      <td>2016.0</td>\n",
       "      <td>4.0</td>\n",
       "      <td>254.0</td>\n",
       "      <td>276.0</td>\n",
       "      <td>ATL</td>\n",
       "      <td>20551.0</td>\n",
       "      <td>1.0</td>\n",
       "      <td>AL</td>\n",
       "      <td>None</td>\n",
       "      <td>...</td>\n",
       "      <td>Y</td>\n",
       "      <td>None</td>\n",
       "      <td>1991.0</td>\n",
       "      <td>D/S</td>\n",
       "      <td>M</td>\n",
       "      <td>None</td>\n",
       "      <td>None</td>\n",
       "      <td>3.736796e+09</td>\n",
       "      <td>00296</td>\n",
       "      <td>F1</td>\n",
       "    </tr>\n",
       "  </tbody>\n",
       "</table>\n",
       "<p>2 rows × 28 columns</p>\n",
       "</div>"
      ],
      "text/plain": [
       "   cicid   i94yr  i94mon  i94cit  i94res i94port  arrdate  i94mode i94addr  \\\n",
       "0    6.0  2016.0     4.0   692.0   692.0     XXX  20573.0      NaN    None   \n",
       "1    7.0  2016.0     4.0   254.0   276.0     ATL  20551.0      1.0      AL   \n",
       "\n",
       "  depdate   ...     entdepu  matflag  biryear   dtaddto gender insnum airline  \\\n",
       "0    None   ...           U     None   1979.0  10282016   None   None    None   \n",
       "1    None   ...           Y     None   1991.0       D/S      M   None    None   \n",
       "\n",
       "         admnum  fltno visatype  \n",
       "0  1.897628e+09   None       B2  \n",
       "1  3.736796e+09  00296       F1  \n",
       "\n",
       "[2 rows x 28 columns]"
      ]
     },
     "execution_count": 5,
     "metadata": {},
     "output_type": "execute_result"
    }
   ],
   "source": [
    "# See some examples\n",
    "df_immigration.limit(2).toPandas()"
   ]
  },
  {
   "cell_type": "markdown",
   "metadata": {},
   "source": [
    "##### check Null values "
   ]
  },
  {
   "cell_type": "code",
   "execution_count": 6,
   "metadata": {},
   "outputs": [
    {
     "data": {
      "text/plain": [
       "{'cicid': 0,\n",
       " 'i94yr': 0,\n",
       " 'i94mon': 0,\n",
       " 'i94cit': 0,\n",
       " 'i94res': 0,\n",
       " 'i94port': 0,\n",
       " 'arrdate': 0,\n",
       " 'i94mode': 239,\n",
       " 'i94addr': 152592,\n",
       " 'depdate': 142457,\n",
       " 'i94bir': 802,\n",
       " 'i94visa': 0,\n",
       " 'count': 0,\n",
       " 'dtadfile': 1,\n",
       " 'visapost': 1881250,\n",
       " 'occup': 3088187,\n",
       " 'entdepa': 238,\n",
       " 'entdepd': 138429,\n",
       " 'entdepu': 3095921,\n",
       " 'matflag': 138429,\n",
       " 'biryear': 802,\n",
       " 'dtaddto': 477,\n",
       " 'gender': 414269,\n",
       " 'insnum': 2982605,\n",
       " 'airline': 83627,\n",
       " 'admnum': 0,\n",
       " 'fltno': 19549,\n",
       " 'visatype': 0}"
      ]
     },
     "execution_count": 6,
     "metadata": {},
     "output_type": "execute_result"
    }
   ],
   "source": [
    "# examine and count null values\n",
    "\n",
    "count_nulls(df_immigration)"
   ]
  },
  {
   "cell_type": "markdown",
   "metadata": {},
   "source": [
    "##### Investigate the summary statistics of age "
   ]
  },
  {
   "cell_type": "code",
   "execution_count": 7,
   "metadata": {},
   "outputs": [
    {
     "data": {
      "text/html": [
       "<div>\n",
       "<style scoped>\n",
       "    .dataframe tbody tr th:only-of-type {\n",
       "        vertical-align: middle;\n",
       "    }\n",
       "\n",
       "    .dataframe tbody tr th {\n",
       "        vertical-align: top;\n",
       "    }\n",
       "\n",
       "    .dataframe thead th {\n",
       "        text-align: right;\n",
       "    }\n",
       "</style>\n",
       "<table border=\"1\" class=\"dataframe\">\n",
       "  <thead>\n",
       "    <tr style=\"text-align: right;\">\n",
       "      <th></th>\n",
       "      <th>summary</th>\n",
       "      <th>i94bir</th>\n",
       "    </tr>\n",
       "  </thead>\n",
       "  <tbody>\n",
       "    <tr>\n",
       "      <th>0</th>\n",
       "      <td>count</td>\n",
       "      <td>3095511</td>\n",
       "    </tr>\n",
       "    <tr>\n",
       "      <th>1</th>\n",
       "      <td>mean</td>\n",
       "      <td>41.767614458485205</td>\n",
       "    </tr>\n",
       "    <tr>\n",
       "      <th>2</th>\n",
       "      <td>stddev</td>\n",
       "      <td>17.42026053458826</td>\n",
       "    </tr>\n",
       "    <tr>\n",
       "      <th>3</th>\n",
       "      <td>min</td>\n",
       "      <td>-3.0</td>\n",
       "    </tr>\n",
       "    <tr>\n",
       "      <th>4</th>\n",
       "      <td>max</td>\n",
       "      <td>114.0</td>\n",
       "    </tr>\n",
       "  </tbody>\n",
       "</table>\n",
       "</div>"
      ],
      "text/plain": [
       "  summary              i94bir\n",
       "0   count             3095511\n",
       "1    mean  41.767614458485205\n",
       "2  stddev   17.42026053458826\n",
       "3     min                -3.0\n",
       "4     max               114.0"
      ]
     },
     "execution_count": 7,
     "metadata": {},
     "output_type": "execute_result"
    }
   ],
   "source": [
    "df_immigration.select('i94bir').describe().toPandas()"
   ]
  },
  {
   "cell_type": "markdown",
   "metadata": {},
   "source": [
    "**Notes:**  \n",
    "- Why is age minimum -3? \n",
    "- Age of 114 is still believable"
   ]
  },
  {
   "cell_type": "markdown",
   "metadata": {},
   "source": [
    "##### Check to see if there are other visitors over 100 yrs old"
   ]
  },
  {
   "cell_type": "code",
   "execution_count": 8,
   "metadata": {},
   "outputs": [
    {
     "data": {
      "text/html": [
       "<div>\n",
       "<style scoped>\n",
       "    .dataframe tbody tr th:only-of-type {\n",
       "        vertical-align: middle;\n",
       "    }\n",
       "\n",
       "    .dataframe tbody tr th {\n",
       "        vertical-align: top;\n",
       "    }\n",
       "\n",
       "    .dataframe thead th {\n",
       "        text-align: right;\n",
       "    }\n",
       "</style>\n",
       "<table border=\"1\" class=\"dataframe\">\n",
       "  <thead>\n",
       "    <tr style=\"text-align: right;\">\n",
       "      <th></th>\n",
       "      <th>i94bir</th>\n",
       "      <th>i94port</th>\n",
       "      <th>i94addr</th>\n",
       "      <th>visatype</th>\n",
       "      <th>i94cit</th>\n",
       "      <th>i94visa</th>\n",
       "    </tr>\n",
       "  </thead>\n",
       "  <tbody>\n",
       "    <tr>\n",
       "      <th>0</th>\n",
       "      <td>109.0</td>\n",
       "      <td>HHW</td>\n",
       "      <td>HI</td>\n",
       "      <td>WT</td>\n",
       "      <td>438.0</td>\n",
       "      <td>2.0</td>\n",
       "    </tr>\n",
       "    <tr>\n",
       "      <th>1</th>\n",
       "      <td>108.0</td>\n",
       "      <td>SDP</td>\n",
       "      <td>None</td>\n",
       "      <td>WT</td>\n",
       "      <td>116.0</td>\n",
       "      <td>2.0</td>\n",
       "    </tr>\n",
       "    <tr>\n",
       "      <th>2</th>\n",
       "      <td>107.0</td>\n",
       "      <td>HHW</td>\n",
       "      <td>HI</td>\n",
       "      <td>WT</td>\n",
       "      <td>117.0</td>\n",
       "      <td>2.0</td>\n",
       "    </tr>\n",
       "    <tr>\n",
       "      <th>3</th>\n",
       "      <td>101.0</td>\n",
       "      <td>HHW</td>\n",
       "      <td>HI</td>\n",
       "      <td>WT</td>\n",
       "      <td>180.0</td>\n",
       "      <td>2.0</td>\n",
       "    </tr>\n",
       "    <tr>\n",
       "      <th>4</th>\n",
       "      <td>105.0</td>\n",
       "      <td>HHW</td>\n",
       "      <td>None</td>\n",
       "      <td>WT</td>\n",
       "      <td>438.0</td>\n",
       "      <td>2.0</td>\n",
       "    </tr>\n",
       "    <tr>\n",
       "      <th>5</th>\n",
       "      <td>102.0</td>\n",
       "      <td>HHW</td>\n",
       "      <td>None</td>\n",
       "      <td>WT</td>\n",
       "      <td>438.0</td>\n",
       "      <td>2.0</td>\n",
       "    </tr>\n",
       "    <tr>\n",
       "      <th>6</th>\n",
       "      <td>103.0</td>\n",
       "      <td>HHW</td>\n",
       "      <td>HI</td>\n",
       "      <td>WT</td>\n",
       "      <td>438.0</td>\n",
       "      <td>2.0</td>\n",
       "    </tr>\n",
       "    <tr>\n",
       "      <th>7</th>\n",
       "      <td>102.0</td>\n",
       "      <td>NYC</td>\n",
       "      <td>None</td>\n",
       "      <td>WT</td>\n",
       "      <td>999.0</td>\n",
       "      <td>2.0</td>\n",
       "    </tr>\n",
       "    <tr>\n",
       "      <th>8</th>\n",
       "      <td>102.0</td>\n",
       "      <td>XXX</td>\n",
       "      <td>HI</td>\n",
       "      <td>WT</td>\n",
       "      <td>112.0</td>\n",
       "      <td>2.0</td>\n",
       "    </tr>\n",
       "    <tr>\n",
       "      <th>9</th>\n",
       "      <td>102.0</td>\n",
       "      <td>KOA</td>\n",
       "      <td>HI</td>\n",
       "      <td>WT</td>\n",
       "      <td>180.0</td>\n",
       "      <td>2.0</td>\n",
       "    </tr>\n",
       "    <tr>\n",
       "      <th>10</th>\n",
       "      <td>105.0</td>\n",
       "      <td>SAI</td>\n",
       "      <td>None</td>\n",
       "      <td>CP</td>\n",
       "      <td>245.0</td>\n",
       "      <td>2.0</td>\n",
       "    </tr>\n",
       "    <tr>\n",
       "      <th>11</th>\n",
       "      <td>114.0</td>\n",
       "      <td>AGA</td>\n",
       "      <td>GU</td>\n",
       "      <td>GMT</td>\n",
       "      <td>254.0</td>\n",
       "      <td>2.0</td>\n",
       "    </tr>\n",
       "    <tr>\n",
       "      <th>12</th>\n",
       "      <td>109.0</td>\n",
       "      <td>SAI</td>\n",
       "      <td>GU</td>\n",
       "      <td>GMT</td>\n",
       "      <td>254.0</td>\n",
       "      <td>2.0</td>\n",
       "    </tr>\n",
       "    <tr>\n",
       "      <th>13</th>\n",
       "      <td>110.0</td>\n",
       "      <td>AGA</td>\n",
       "      <td>GU</td>\n",
       "      <td>GMT</td>\n",
       "      <td>254.0</td>\n",
       "      <td>2.0</td>\n",
       "    </tr>\n",
       "    <tr>\n",
       "      <th>14</th>\n",
       "      <td>101.0</td>\n",
       "      <td>AGA</td>\n",
       "      <td>GU</td>\n",
       "      <td>GMT</td>\n",
       "      <td>254.0</td>\n",
       "      <td>2.0</td>\n",
       "    </tr>\n",
       "    <tr>\n",
       "      <th>15</th>\n",
       "      <td>111.0</td>\n",
       "      <td>AGA</td>\n",
       "      <td>GU</td>\n",
       "      <td>GMT</td>\n",
       "      <td>254.0</td>\n",
       "      <td>2.0</td>\n",
       "    </tr>\n",
       "    <tr>\n",
       "      <th>16</th>\n",
       "      <td>108.0</td>\n",
       "      <td>AGA</td>\n",
       "      <td>GU</td>\n",
       "      <td>GMT</td>\n",
       "      <td>254.0</td>\n",
       "      <td>2.0</td>\n",
       "    </tr>\n",
       "  </tbody>\n",
       "</table>\n",
       "</div>"
      ],
      "text/plain": [
       "    i94bir i94port i94addr visatype  i94cit  i94visa\n",
       "0    109.0     HHW      HI       WT   438.0      2.0\n",
       "1    108.0     SDP    None       WT   116.0      2.0\n",
       "2    107.0     HHW      HI       WT   117.0      2.0\n",
       "3    101.0     HHW      HI       WT   180.0      2.0\n",
       "4    105.0     HHW    None       WT   438.0      2.0\n",
       "5    102.0     HHW    None       WT   438.0      2.0\n",
       "6    103.0     HHW      HI       WT   438.0      2.0\n",
       "7    102.0     NYC    None       WT   999.0      2.0\n",
       "8    102.0     XXX      HI       WT   112.0      2.0\n",
       "9    102.0     KOA      HI       WT   180.0      2.0\n",
       "10   105.0     SAI    None       CP   245.0      2.0\n",
       "11   114.0     AGA      GU      GMT   254.0      2.0\n",
       "12   109.0     SAI      GU      GMT   254.0      2.0\n",
       "13   110.0     AGA      GU      GMT   254.0      2.0\n",
       "14   101.0     AGA      GU      GMT   254.0      2.0\n",
       "15   111.0     AGA      GU      GMT   254.0      2.0\n",
       "16   108.0     AGA      GU      GMT   254.0      2.0"
      ]
     },
     "execution_count": 8,
     "metadata": {},
     "output_type": "execute_result"
    }
   ],
   "source": [
    "# Check  i94_age >100\n",
    "df_immigration.filter(df_immigration['i94bir']>100).select('i94bir','i94port','i94addr','visatype','i94cit','i94visa').toPandas()"
   ]
  },
  {
   "cell_type": "markdown",
   "metadata": {},
   "source": [
    "##### Examine Null values in age"
   ]
  },
  {
   "cell_type": "code",
   "execution_count": 9,
   "metadata": {},
   "outputs": [
    {
     "data": {
      "text/html": [
       "<div>\n",
       "<style scoped>\n",
       "    .dataframe tbody tr th:only-of-type {\n",
       "        vertical-align: middle;\n",
       "    }\n",
       "\n",
       "    .dataframe tbody tr th {\n",
       "        vertical-align: top;\n",
       "    }\n",
       "\n",
       "    .dataframe thead th {\n",
       "        text-align: right;\n",
       "    }\n",
       "</style>\n",
       "<table border=\"1\" class=\"dataframe\">\n",
       "  <thead>\n",
       "    <tr style=\"text-align: right;\">\n",
       "      <th></th>\n",
       "      <th>i94bir</th>\n",
       "      <th>i94port</th>\n",
       "      <th>i94addr</th>\n",
       "      <th>visatype</th>\n",
       "      <th>i94cit</th>\n",
       "      <th>i94visa</th>\n",
       "    </tr>\n",
       "  </thead>\n",
       "  <tbody>\n",
       "    <tr>\n",
       "      <th>0</th>\n",
       "      <td>None</td>\n",
       "      <td>X96</td>\n",
       "      <td>AZ</td>\n",
       "      <td>B2</td>\n",
       "      <td>518.0</td>\n",
       "      <td>2.0</td>\n",
       "    </tr>\n",
       "    <tr>\n",
       "      <th>1</th>\n",
       "      <td>None</td>\n",
       "      <td>HHW</td>\n",
       "      <td>None</td>\n",
       "      <td>WT</td>\n",
       "      <td>180.0</td>\n",
       "      <td>2.0</td>\n",
       "    </tr>\n",
       "    <tr>\n",
       "      <th>2</th>\n",
       "      <td>None</td>\n",
       "      <td>HHW</td>\n",
       "      <td>HI</td>\n",
       "      <td>WT</td>\n",
       "      <td>180.0</td>\n",
       "      <td>2.0</td>\n",
       "    </tr>\n",
       "    <tr>\n",
       "      <th>3</th>\n",
       "      <td>None</td>\n",
       "      <td>HHW</td>\n",
       "      <td>HI</td>\n",
       "      <td>WT</td>\n",
       "      <td>180.0</td>\n",
       "      <td>2.0</td>\n",
       "    </tr>\n",
       "    <tr>\n",
       "      <th>4</th>\n",
       "      <td>None</td>\n",
       "      <td>HHW</td>\n",
       "      <td>HI</td>\n",
       "      <td>WT</td>\n",
       "      <td>180.0</td>\n",
       "      <td>2.0</td>\n",
       "    </tr>\n",
       "    <tr>\n",
       "      <th>5</th>\n",
       "      <td>None</td>\n",
       "      <td>HHW</td>\n",
       "      <td>HI</td>\n",
       "      <td>WT</td>\n",
       "      <td>180.0</td>\n",
       "      <td>2.0</td>\n",
       "    </tr>\n",
       "  </tbody>\n",
       "</table>\n",
       "</div>"
      ],
      "text/plain": [
       "  i94bir i94port i94addr visatype  i94cit  i94visa\n",
       "0   None     X96      AZ       B2   518.0      2.0\n",
       "1   None     HHW    None       WT   180.0      2.0\n",
       "2   None     HHW      HI       WT   180.0      2.0\n",
       "3   None     HHW      HI       WT   180.0      2.0\n",
       "4   None     HHW      HI       WT   180.0      2.0\n",
       "5   None     HHW      HI       WT   180.0      2.0"
      ]
     },
     "execution_count": 9,
     "metadata": {},
     "output_type": "execute_result"
    }
   ],
   "source": [
    "df_immigration.filter(df_immigration['i94bir'].isNull()).select('i94bir','i94port','i94addr','visatype','i94cit','i94visa').limit(6).toPandas()"
   ]
  },
  {
   "cell_type": "markdown",
   "metadata": {},
   "source": [
    "#### Prepare columns and define column types\n",
    "- remove entries with age < 0\n",
    "- replace Null in 'i94addr' with 'unspecified'\n",
    "- rename columns to make them more intutitive to read\n",
    "- define integer type for numeric values\n",
    "- drop duplicate entries"
   ]
  },
  {
   "cell_type": "code",
   "execution_count": 10,
   "metadata": {},
   "outputs": [],
   "source": [
    "df_imm= (df_immigration.filter(df_immigration['i94bir']>0)\n",
    "                .withColumn(\"year\", df_immigration['i94yr'].cast(IntegerType()))\n",
    "                .withColumn('i94addr', \n",
    "                            when(df_immigration[\"i94addr\"].isNull(), 'unspecified')\n",
    "                             .otherwise(df_immigration[\"i94addr\"]))\n",
    "                .withColumn(\"month\", df_immigration['i94mon'].cast(IntegerType()))\n",
    "                .withColumn(\"purpose\", df_immigration['i94visa'].cast(IntegerType()))\n",
    "                .withColumn(\"citizenship\", df_immigration['i94cit'].cast(IntegerType())) \n",
    "                .withColumn(\"age\", df_immigration['i94bir'].cast(IntegerType()))\n",
    "                .withColumn(\"count\", df_immigration['count'].cast(IntegerType()))\n",
    "                .withColumnRenamed('i94port','entry_port')\n",
    "                .withColumnRenamed('i94addr','destination_state')\n",
    "                .withColumnRenamed('visatype', 'visa_type')\n",
    "        ).drop_duplicates()"
   ]
  },
  {
   "cell_type": "code",
   "execution_count": 11,
   "metadata": {},
   "outputs": [
    {
     "data": {
      "text/plain": [
       "3094745"
      ]
     },
     "execution_count": 11,
     "metadata": {},
     "output_type": "execute_result"
    }
   ],
   "source": [
    "# Count number of rows\n",
    "df_imm.count()"
   ]
  },
  {
   "cell_type": "markdown",
   "metadata": {},
   "source": [
    "---"
   ]
  },
  {
   "cell_type": "markdown",
   "metadata": {},
   "source": [
    "#### See examples of groupby result"
   ]
  },
  {
   "cell_type": "code",
   "execution_count": 12,
   "metadata": {},
   "outputs": [
    {
     "data": {
      "text/html": [
       "<div>\n",
       "<style scoped>\n",
       "    .dataframe tbody tr th:only-of-type {\n",
       "        vertical-align: middle;\n",
       "    }\n",
       "\n",
       "    .dataframe tbody tr th {\n",
       "        vertical-align: top;\n",
       "    }\n",
       "\n",
       "    .dataframe thead th {\n",
       "        text-align: right;\n",
       "    }\n",
       "</style>\n",
       "<table border=\"1\" class=\"dataframe\">\n",
       "  <thead>\n",
       "    <tr style=\"text-align: right;\">\n",
       "      <th></th>\n",
       "      <th>year</th>\n",
       "      <th>month</th>\n",
       "      <th>entry_port</th>\n",
       "      <th>destination_state</th>\n",
       "      <th>citizenship</th>\n",
       "      <th>age</th>\n",
       "      <th>purpose</th>\n",
       "      <th>visa_type</th>\n",
       "      <th>count</th>\n",
       "    </tr>\n",
       "  </thead>\n",
       "  <tbody>\n",
       "    <tr>\n",
       "      <th>0</th>\n",
       "      <td>2016</td>\n",
       "      <td>4</td>\n",
       "      <td>OPF</td>\n",
       "      <td>CO</td>\n",
       "      <td>582</td>\n",
       "      <td>34</td>\n",
       "      <td>2</td>\n",
       "      <td>B2</td>\n",
       "      <td>1</td>\n",
       "    </tr>\n",
       "    <tr>\n",
       "      <th>1</th>\n",
       "      <td>2016</td>\n",
       "      <td>4</td>\n",
       "      <td>MIA</td>\n",
       "      <td>FL</td>\n",
       "      <td>438</td>\n",
       "      <td>40</td>\n",
       "      <td>1</td>\n",
       "      <td>WB</td>\n",
       "      <td>2</td>\n",
       "    </tr>\n",
       "    <tr>\n",
       "      <th>2</th>\n",
       "      <td>2016</td>\n",
       "      <td>4</td>\n",
       "      <td>ATL</td>\n",
       "      <td>FL</td>\n",
       "      <td>575</td>\n",
       "      <td>62</td>\n",
       "      <td>2</td>\n",
       "      <td>B2</td>\n",
       "      <td>1</td>\n",
       "    </tr>\n",
       "    <tr>\n",
       "      <th>3</th>\n",
       "      <td>2016</td>\n",
       "      <td>4</td>\n",
       "      <td>OGG</td>\n",
       "      <td>CA</td>\n",
       "      <td>254</td>\n",
       "      <td>31</td>\n",
       "      <td>2</td>\n",
       "      <td>WT</td>\n",
       "      <td>3</td>\n",
       "    </tr>\n",
       "    <tr>\n",
       "      <th>4</th>\n",
       "      <td>2016</td>\n",
       "      <td>4</td>\n",
       "      <td>FTL</td>\n",
       "      <td>unspecified</td>\n",
       "      <td>111</td>\n",
       "      <td>45</td>\n",
       "      <td>2</td>\n",
       "      <td>WT</td>\n",
       "      <td>2</td>\n",
       "    </tr>\n",
       "    <tr>\n",
       "      <th>5</th>\n",
       "      <td>2016</td>\n",
       "      <td>4</td>\n",
       "      <td>LVG</td>\n",
       "      <td>TX</td>\n",
       "      <td>135</td>\n",
       "      <td>42</td>\n",
       "      <td>2</td>\n",
       "      <td>WT</td>\n",
       "      <td>1</td>\n",
       "    </tr>\n",
       "    <tr>\n",
       "      <th>6</th>\n",
       "      <td>2016</td>\n",
       "      <td>4</td>\n",
       "      <td>NEW</td>\n",
       "      <td>IL</td>\n",
       "      <td>148</td>\n",
       "      <td>41</td>\n",
       "      <td>1</td>\n",
       "      <td>WB</td>\n",
       "      <td>3</td>\n",
       "    </tr>\n",
       "    <tr>\n",
       "      <th>7</th>\n",
       "      <td>2016</td>\n",
       "      <td>4</td>\n",
       "      <td>HOU</td>\n",
       "      <td>CA</td>\n",
       "      <td>129</td>\n",
       "      <td>32</td>\n",
       "      <td>1</td>\n",
       "      <td>WB</td>\n",
       "      <td>1</td>\n",
       "    </tr>\n",
       "    <tr>\n",
       "      <th>8</th>\n",
       "      <td>2016</td>\n",
       "      <td>4</td>\n",
       "      <td>FTL</td>\n",
       "      <td>MA</td>\n",
       "      <td>126</td>\n",
       "      <td>75</td>\n",
       "      <td>2</td>\n",
       "      <td>WT</td>\n",
       "      <td>1</td>\n",
       "    </tr>\n",
       "    <tr>\n",
       "      <th>9</th>\n",
       "      <td>2016</td>\n",
       "      <td>4</td>\n",
       "      <td>ORL</td>\n",
       "      <td>FL</td>\n",
       "      <td>575</td>\n",
       "      <td>21</td>\n",
       "      <td>2</td>\n",
       "      <td>B2</td>\n",
       "      <td>12</td>\n",
       "    </tr>\n",
       "    <tr>\n",
       "      <th>10</th>\n",
       "      <td>2016</td>\n",
       "      <td>4</td>\n",
       "      <td>HOU</td>\n",
       "      <td>TX</td>\n",
       "      <td>254</td>\n",
       "      <td>74</td>\n",
       "      <td>2</td>\n",
       "      <td>WT</td>\n",
       "      <td>4</td>\n",
       "    </tr>\n",
       "    <tr>\n",
       "      <th>11</th>\n",
       "      <td>2016</td>\n",
       "      <td>4</td>\n",
       "      <td>LOS</td>\n",
       "      <td>GA</td>\n",
       "      <td>213</td>\n",
       "      <td>37</td>\n",
       "      <td>2</td>\n",
       "      <td>B2</td>\n",
       "      <td>1</td>\n",
       "    </tr>\n",
       "  </tbody>\n",
       "</table>\n",
       "</div>"
      ],
      "text/plain": [
       "    year  month entry_port destination_state  citizenship  age  purpose  \\\n",
       "0   2016      4        OPF                CO          582   34        2   \n",
       "1   2016      4        MIA                FL          438   40        1   \n",
       "2   2016      4        ATL                FL          575   62        2   \n",
       "3   2016      4        OGG                CA          254   31        2   \n",
       "4   2016      4        FTL       unspecified          111   45        2   \n",
       "5   2016      4        LVG                TX          135   42        2   \n",
       "6   2016      4        NEW                IL          148   41        1   \n",
       "7   2016      4        HOU                CA          129   32        1   \n",
       "8   2016      4        FTL                MA          126   75        2   \n",
       "9   2016      4        ORL                FL          575   21        2   \n",
       "10  2016      4        HOU                TX          254   74        2   \n",
       "11  2016      4        LOS                GA          213   37        2   \n",
       "\n",
       "   visa_type  count  \n",
       "0         B2      1  \n",
       "1         WB      2  \n",
       "2         B2      1  \n",
       "3         WT      3  \n",
       "4         WT      2  \n",
       "5         WT      1  \n",
       "6         WB      3  \n",
       "7         WB      1  \n",
       "8         WT      1  \n",
       "9         B2     12  \n",
       "10        WT      4  \n",
       "11        B2      1  "
      ]
     },
     "execution_count": 12,
     "metadata": {},
     "output_type": "execute_result"
    }
   ],
   "source": [
    "(df_imm.groupBy(['year', 'month','entry_port','destination_state',\n",
    "                                        'citizenship','age','purpose',\n",
    "                                        'visa_type']).agg({'count':'sum'})\n",
    "                                        .withColumnRenamed(\"sum(count)\", \"count\")\n",
    ").sample(0.00001).toPandas()\n"
   ]
  },
  {
   "cell_type": "code",
   "execution_count": 13,
   "metadata": {},
   "outputs": [
    {
     "data": {
      "text/plain": [
       "856233"
      ]
     },
     "execution_count": 13,
     "metadata": {},
     "output_type": "execute_result"
    }
   ],
   "source": [
    "(df_imm.groupBy(['year', 'month','entry_port','destination_state',\n",
    "                                        'citizenship','age','purpose',\n",
    "                                        'visa_type']).agg({'count':'sum'})\n",
    "                                        .withColumnRenamed(\"sum(count)\", \"count\")\n",
    ").dropna().count()"
   ]
  },
  {
   "cell_type": "code",
   "execution_count": null,
   "metadata": {},
   "outputs": [],
   "source": []
  },
  {
   "cell_type": "code",
   "execution_count": null,
   "metadata": {},
   "outputs": [],
   "source": []
  },
  {
   "cell_type": "code",
   "execution_count": 14,
   "metadata": {},
   "outputs": [],
   "source": [
    "from Misc import *"
   ]
  },
  {
   "cell_type": "code",
   "execution_count": 15,
   "metadata": {},
   "outputs": [
    {
     "name": "stdout",
     "output_type": "stream",
     "text": [
      "the number of entries with valid port codes:  3094745\n"
     ]
    }
   ],
   "source": [
    "junk2= valid_data_bycode(df_imm)"
   ]
  },
  {
   "cell_type": "code",
   "execution_count": null,
   "metadata": {},
   "outputs": [],
   "source": []
  },
  {
   "cell_type": "code",
   "execution_count": null,
   "metadata": {},
   "outputs": [],
   "source": []
  },
  {
   "cell_type": "code",
   "execution_count": null,
   "metadata": {},
   "outputs": [],
   "source": [
    "code = list(i94cit_dict.keys())"
   ]
  },
  {
   "cell_type": "code",
   "execution_count": null,
   "metadata": {},
   "outputs": [],
   "source": [
    "code = list(i94cit_dict.keys())\n",
    "pattern= re.compile(r'\\'(\\w\\w)\\'')\n",
    "key= [pattern.search(i).groups()[0] for i in code]\n"
   ]
  },
  {
   "cell_type": "code",
   "execution_count": null,
   "metadata": {},
   "outputs": [],
   "source": [
    "junk = df_imm.filter(df_imm['destination_state'].isin(key))"
   ]
  },
  {
   "cell_type": "code",
   "execution_count": null,
   "metadata": {},
   "outputs": [],
   "source": [
    "junk.count()"
   ]
  },
  {
   "cell_type": "code",
   "execution_count": null,
   "metadata": {},
   "outputs": [],
   "source": [
    "\n"
   ]
  },
  {
   "cell_type": "code",
   "execution_count": null,
   "metadata": {},
   "outputs": [],
   "source": [
    "# df_imm.filter(df_imm['destination_state']=='.I').limit(5).toPandas()"
   ]
  },
  {
   "cell_type": "markdown",
   "metadata": {},
   "source": [
    "---"
   ]
  },
  {
   "cell_type": "markdown",
   "metadata": {},
   "source": [
    "### Explore and Assess Demographic Data"
   ]
  },
  {
   "cell_type": "code",
   "execution_count": null,
   "metadata": {},
   "outputs": [],
   "source": [
    "import pandas as pd\n",
    "import numpy as np\n",
    "import os\n",
    "import re\n",
    "\n",
    "from pyspark.sql import SparkSession\n",
    "from pyspark.sql.functions import udf, col, when\n",
    "from pyspark.sql.types import IntegerType, FloatType\n",
    "\n",
    "from utility_functions import count_nulls"
   ]
  },
  {
   "cell_type": "code",
   "execution_count": null,
   "metadata": {},
   "outputs": [],
   "source": [
    "df_demographic = (spark.read.format('csv')\n",
    "                         .option(\"header\",\"true\")\n",
    "                         .option(\"inferSchema\",\"true\")\n",
    "                         .option(\"sep\",\";\")\n",
    "                         .load('../data/us-cities-demographics.csv')\n",
    "                    )\n",
    "\n",
    "\n",
    "df_demographic.printSchema()"
   ]
  },
  {
   "cell_type": "markdown",
   "metadata": {},
   "source": [
    "#### Check for Nulls"
   ]
  },
  {
   "cell_type": "code",
   "execution_count": null,
   "metadata": {},
   "outputs": [],
   "source": [
    "# Count null values \n",
    "\n",
    "count_nulls(df_demographic)"
   ]
  },
  {
   "cell_type": "code",
   "execution_count": null,
   "metadata": {},
   "outputs": [],
   "source": [
    "# See example of Null values\n",
    "df_demographic.filter(df_demographic['Foreign-born'].isNull()).toPandas()"
   ]
  },
  {
   "cell_type": "code",
   "execution_count": null,
   "metadata": {},
   "outputs": [],
   "source": [
    "# See examples \n",
    "df_demographic.sample(0.002).toPandas()"
   ]
  },
  {
   "cell_type": "code",
   "execution_count": null,
   "metadata": {},
   "outputs": [],
   "source": [
    "# See examples of a particular city, Lynchburg\n",
    "\n",
    "df_demographic.filter(df_demographic['City']=='Lynchburg').toPandas()\n"
   ]
  },
  {
   "cell_type": "markdown",
   "metadata": {},
   "source": [
    "#### Combine all preparation and cleaning tasks\n",
    "- Rename column names to make it more intutitive to read\n",
    "- Turn city column into upper case\n",
    "- Define the correct data type into numeric age column"
   ]
  },
  {
   "cell_type": "code",
   "execution_count": null,
   "metadata": {},
   "outputs": [],
   "source": [
    "# Create uppercase function\n",
    "uppercase_string = udf(lambda s: s.upper())\n",
    "\n",
    "df_demo = (df_demographic.withColumnRenamed('State Code', 'state_code')\n",
    "                        .withColumn('city', uppercase_string('City'))\n",
    "                        .withColumn('median_age', col('Median Age').cast(FloatType())) \n",
    "                        .withColumnRenamed('Foreign-born','foreign_born')\n",
    "                        .withColumnRenamed('Total Population', 'total_population')\n",
    "                        .withColumnRenamed('Race','race')\n",
    "                        .withColumnRenamed('count', 'race_count')\n",
    "                ).drop_duplicates().dropna()\n"
   ]
  },
  {
   "cell_type": "code",
   "execution_count": null,
   "metadata": {},
   "outputs": [],
   "source": [
    "# Prepare a dim table\n",
    "dim_demographic_table = df_demo.select(['state_code','city','median_age','foreign_born',\n",
    "                                       'total_population','race','race_count'])"
   ]
  },
  {
   "cell_type": "code",
   "execution_count": null,
   "metadata": {},
   "outputs": [],
   "source": [
    "# Count the number of rows in dim table\n",
    "dim_demographic_table.count()"
   ]
  },
  {
   "cell_type": "markdown",
   "metadata": {},
   "source": [
    "---"
   ]
  },
  {
   "cell_type": "markdown",
   "metadata": {},
   "source": [
    "**Next Step**\n",
    "- Consolidate data cleaning steps into functions and store them as [utility_functions.py](./utility_functions.py)\n",
    "- Import this py file as a library in the next [ELT notebook](./Step3_ETL.ipynb)"
   ]
  }
 ],
 "metadata": {
  "kernelspec": {
   "display_name": "Python 3",
   "language": "python",
   "name": "python3"
  },
  "language_info": {
   "codemirror_mode": {
    "name": "ipython",
    "version": 3
   },
   "file_extension": ".py",
   "mimetype": "text/x-python",
   "name": "python",
   "nbconvert_exporter": "python",
   "pygments_lexer": "ipython3",
   "version": "3.7.0"
  }
 },
 "nbformat": 4,
 "nbformat_minor": 4
}
